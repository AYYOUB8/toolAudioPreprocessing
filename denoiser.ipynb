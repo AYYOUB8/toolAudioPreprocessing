{
  "nbformat": 4,
  "nbformat_minor": 0,
  "metadata": {
    "colab": {
      "name": "denoiser.ipynb",
      "provenance": [],
      "authorship_tag": "ABX9TyNbap8g7ohKhYDySy4ff2SH",
      "include_colab_link": true
    },
    "kernelspec": {
      "name": "python3",
      "display_name": "Python 3"
    },
    "language_info": {
      "name": "python"
    }
  },
  "cells": [
    {
      "cell_type": "markdown",
      "metadata": {
        "id": "view-in-github",
        "colab_type": "text"
      },
      "source": [
        "<a href=\"https://colab.research.google.com/github/AYYOUB8/toolAudioPreprocessing/blob/main/denoiser.ipynb\" target=\"_parent\"><img src=\"https://colab.research.google.com/assets/colab-badge.svg\" alt=\"Open In Colab\"/></a>"
      ]
    },
    {
      "cell_type": "code",
      "source": [
        "!git clone https://github.com/facebookresearch/demucs"
      ],
      "metadata": {
        "colab": {
          "base_uri": "https://localhost:8080/"
        },
        "id": "mYkbWcYr4Azu",
        "outputId": "8799fbd6-2ea7-4aab-dd44-0ec2af70a9d5"
      },
      "execution_count": 2,
      "outputs": [
        {
          "output_type": "stream",
          "name": "stdout",
          "text": [
            "Cloning into 'demucs'...\n",
            "remote: Enumerating objects: 5355, done.\u001b[K\n",
            "remote: Counting objects: 100% (151/151), done.\u001b[K\n",
            "remote: Compressing objects: 100% (73/73), done.\u001b[K\n",
            "remote: Total 5355 (delta 79), reused 135 (delta 78), pack-reused 5204\u001b[K\n",
            "Receiving objects: 100% (5355/5355), 76.23 MiB | 36.91 MiB/s, done.\n",
            "Resolving deltas: 100% (815/815), done.\n"
          ]
        }
      ]
    },
    {
      "cell_type": "code",
      "execution_count": 1,
      "metadata": {
        "colab": {
          "base_uri": "https://localhost:8080/",
          "height": 1000
        },
        "id": "jxes14p633Yd",
        "outputId": "5400f070-c7f0-4dc8-c53f-2c05d24ea15b"
      },
      "outputs": [
        {
          "output_type": "stream",
          "name": "stdout",
          "text": [
            "Looking in indexes: https://pypi.org/simple, https://us-python.pkg.dev/colab-wheels/public/simple/\n",
            "Collecting demucs\n",
            "  Downloading demucs-3.0.5.tar.gz (1.5 MB)\n",
            "\u001b[K     |████████████████████████████████| 1.5 MB 5.3 MB/s \n",
            "\u001b[?25hCollecting dora-search\n",
            "  Downloading dora_search-0.1.10.tar.gz (86 kB)\n",
            "\u001b[K     |████████████████████████████████| 86 kB 5.3 MB/s \n",
            "\u001b[?25h  Installing build dependencies ... \u001b[?25l\u001b[?25hdone\n",
            "  Getting requirements to build wheel ... \u001b[?25l\u001b[?25hdone\n",
            "    Preparing wheel metadata ... \u001b[?25l\u001b[?25hdone\n",
            "Collecting diffq>=0.2.1\n",
            "  Downloading diffq-0.2.3-cp37-cp37m-manylinux_2_5_x86_64.manylinux1_x86_64.manylinux_2_12_x86_64.manylinux2010_x86_64.whl (393 kB)\n",
            "\u001b[K     |████████████████████████████████| 393 kB 63.4 MB/s \n",
            "\u001b[?25hCollecting julius>=0.2.3\n",
            "  Downloading julius-0.2.6.tar.gz (58 kB)\n",
            "\u001b[K     |████████████████████████████████| 58 kB 4.6 MB/s \n",
            "\u001b[?25hCollecting lameenc>=1.2\n",
            "  Downloading lameenc-1.4.1-cp37-cp37m-manylinux_2_17_x86_64.manylinux2014_x86_64.manylinux_2_24_x86_64.whl (190 kB)\n",
            "\u001b[K     |████████████████████████████████| 190 kB 56.8 MB/s \n",
            "\u001b[?25hCollecting openunmix\n",
            "  Downloading openunmix-1.2.1-py3-none-any.whl (46 kB)\n",
            "\u001b[K     |████████████████████████████████| 46 kB 3.5 MB/s \n",
            "\u001b[?25hRequirement already satisfied: pyyaml in /usr/local/lib/python3.7/dist-packages (from demucs) (6.0)\n",
            "Requirement already satisfied: torch>=1.8.1 in /usr/local/lib/python3.7/dist-packages (from demucs) (1.12.1+cu113)\n",
            "Requirement already satisfied: torchaudio>=0.8 in /usr/local/lib/python3.7/dist-packages (from demucs) (0.12.1+cu113)\n",
            "Requirement already satisfied: tqdm in /usr/local/lib/python3.7/dist-packages (from demucs) (4.64.0)\n",
            "Requirement already satisfied: numpy in /usr/local/lib/python3.7/dist-packages (from diffq>=0.2.1->demucs) (1.21.6)\n",
            "Requirement already satisfied: Cython in /usr/local/lib/python3.7/dist-packages (from diffq>=0.2.1->demucs) (0.29.32)\n",
            "Requirement already satisfied: typing-extensions in /usr/local/lib/python3.7/dist-packages (from torch>=1.8.1->demucs) (4.1.1)\n",
            "Collecting retrying\n",
            "  Downloading retrying-1.3.3.tar.gz (10 kB)\n",
            "Collecting omegaconf\n",
            "  Downloading omegaconf-2.2.3-py3-none-any.whl (79 kB)\n",
            "\u001b[K     |████████████████████████████████| 79 kB 5.9 MB/s \n",
            "\u001b[?25hCollecting submitit\n",
            "  Downloading submitit-1.4.5-py3-none-any.whl (73 kB)\n",
            "\u001b[K     |████████████████████████████████| 73 kB 1.5 MB/s \n",
            "\u001b[?25hCollecting treetable\n",
            "  Downloading treetable-0.2.5.tar.gz (10 kB)\n",
            "Collecting antlr4-python3-runtime==4.9.*\n",
            "  Downloading antlr4-python3-runtime-4.9.3.tar.gz (117 kB)\n",
            "\u001b[K     |████████████████████████████████| 117 kB 45.7 MB/s \n",
            "\u001b[?25hRequirement already satisfied: six>=1.7.0 in /usr/local/lib/python3.7/dist-packages (from retrying->dora-search->demucs) (1.15.0)\n",
            "Requirement already satisfied: cloudpickle>=1.2.1 in /usr/local/lib/python3.7/dist-packages (from submitit->dora-search->demucs) (1.5.0)\n",
            "Building wheels for collected packages: demucs, julius, dora-search, antlr4-python3-runtime, retrying, treetable\n",
            "  Building wheel for demucs (setup.py) ... \u001b[?25l\u001b[?25hdone\n",
            "  Created wheel for demucs: filename=demucs-3.0.5-py3-none-any.whl size=58966 sha256=09f3c0ab2eafe666acd529262ba1e113ba1c9d4b562f6d7fb7b2ee68f72229b7\n",
            "  Stored in directory: /root/.cache/pip/wheels/0e/07/ce/3ac3936612565655cddff6f39f6b3db4f85dde2b0edca9d2c9\n",
            "  Building wheel for julius (setup.py) ... \u001b[?25l\u001b[?25hdone\n",
            "  Created wheel for julius: filename=julius-0.2.6-py3-none-any.whl size=20965 sha256=43110204bb12ae239c8b9c7108bcaa614785f57b0fa24c3796af65c23384f584\n",
            "  Stored in directory: /root/.cache/pip/wheels/ad/6f/00/57039014814f8794b1f32aad93d1d387645d103afdda943caf\n",
            "  Building wheel for dora-search (PEP 517) ... \u001b[?25l\u001b[?25hdone\n",
            "  Created wheel for dora-search: filename=dora_search-0.1.10-py3-none-any.whl size=74756 sha256=49a656bdb221e4db4ca7e6b2d5268ccb4269c4f47ddcc711ff1834865e0eecb6\n",
            "  Stored in directory: /root/.cache/pip/wheels/fd/33/f1/3220362f281aab52d55f9039e8fb7dea215c3f52f424094420\n",
            "  Building wheel for antlr4-python3-runtime (setup.py) ... \u001b[?25l\u001b[?25hdone\n",
            "  Created wheel for antlr4-python3-runtime: filename=antlr4_python3_runtime-4.9.3-py3-none-any.whl size=144575 sha256=5b64ee5a129c3d61435a19084c24454b592bb0e67907b51f4beba4c5e05ec37c\n",
            "  Stored in directory: /root/.cache/pip/wheels/8b/8d/53/2af8772d9aec614e3fc65e53d4a993ad73c61daa8bbd85a873\n",
            "  Building wheel for retrying (setup.py) ... \u001b[?25l\u001b[?25hdone\n",
            "  Created wheel for retrying: filename=retrying-1.3.3-py3-none-any.whl size=11447 sha256=b4d9335cb2307a685af999c8a18232e587707d7412090ae824301686f44bf0a3\n",
            "  Stored in directory: /root/.cache/pip/wheels/f9/8d/8d/f6af3f7f9eea3553bc2fe6d53e4b287dad18b06a861ac56ddf\n",
            "  Building wheel for treetable (setup.py) ... \u001b[?25l\u001b[?25hdone\n",
            "  Created wheel for treetable: filename=treetable-0.2.5-py3-none-any.whl size=7349 sha256=63a0e3e8a1fc609600fe5cae2c862dc4675f0905642faf41dd8d718834fef422\n",
            "  Stored in directory: /root/.cache/pip/wheels/49/47/17/9a3302620cfb927cd6eb60bc80133c12af5b37f05ee5dc5656\n",
            "Successfully built demucs julius dora-search antlr4-python3-runtime retrying treetable\n",
            "Installing collected packages: antlr4-python3-runtime, treetable, submitit, retrying, omegaconf, openunmix, lameenc, julius, dora-search, diffq, demucs\n",
            "Successfully installed antlr4-python3-runtime-4.9.3 demucs-3.0.5 diffq-0.2.3 dora-search-0.1.10 julius-0.2.6 lameenc-1.4.1 omegaconf-2.2.3 openunmix-1.2.1 retrying-1.3.3 submitit-1.4.5 treetable-0.2.5\n"
          ]
        },
        {
          "output_type": "display_data",
          "data": {
            "application/vnd.colab-display-data+json": {
              "pip_warning": {
                "packages": [
                  "pydevd_plugins"
                ]
              }
            }
          },
          "metadata": {}
        }
      ],
      "source": [
        "!pip install demucs "
      ]
    },
    {
      "cell_type": "code",
      "source": [
        "!python -m demucs.separate /content/demucs/test.mp3"
      ],
      "metadata": {
        "colab": {
          "base_uri": "https://localhost:8080/"
        },
        "id": "ejMyrxjk37vW",
        "outputId": "7f412544-23cd-4298-9da7-28420dda306b"
      },
      "execution_count": 3,
      "outputs": [
        {
          "output_type": "stream",
          "name": "stdout",
          "text": [
            "Downloading: \"https://dl.fbaipublicfiles.com/demucs/mdx_final/83fc094f-4a16d450.th\" to /root/.cache/torch/hub/checkpoints/83fc094f-4a16d450.th\n",
            "100% 48.4M/48.4M [00:01<00:00, 26.3MB/s]\n",
            "Downloading: \"https://dl.fbaipublicfiles.com/demucs/mdx_final/464b36d7-e5a9386e.th\" to /root/.cache/torch/hub/checkpoints/464b36d7-e5a9386e.th\n",
            "100% 37.1M/37.1M [00:00<00:00, 41.5MB/s]\n",
            "Downloading: \"https://dl.fbaipublicfiles.com/demucs/mdx_final/14fc6a69-a89dd0ee.th\" to /root/.cache/torch/hub/checkpoints/14fc6a69-a89dd0ee.th\n",
            "100% 36.7M/36.7M [00:00<00:00, 43.9MB/s]\n",
            "Downloading: \"https://dl.fbaipublicfiles.com/demucs/mdx_final/7fd6ef75-a905dd85.th\" to /root/.cache/torch/hub/checkpoints/7fd6ef75-a905dd85.th\n",
            "100% 37.6M/37.6M [00:01<00:00, 20.4MB/s]\n",
            "Selected model is a bag of 4 models. You will see that many progress bars per track.\n",
            "Separated tracks will be stored in /content/separated/mdx_extra_q\n",
            "Separating track /content/demucs/test.mp3\n",
            "100%|██████████████████████████████████████████████████████████████████████████| 33.0/33.0 [00:13<00:00,  2.41seconds/s]\n",
            "100%|██████████████████████████████████████████████████████████████████████████| 33.0/33.0 [00:14<00:00,  2.33seconds/s]\n",
            "100%|██████████████████████████████████████████████████████████████████████████| 33.0/33.0 [00:13<00:00,  2.40seconds/s]\n",
            "100%|██████████████████████████████████████████████████████████████████████████| 33.0/33.0 [00:12<00:00,  2.60seconds/s]\n"
          ]
        }
      ]
    },
    {
      "cell_type": "code",
      "source": [],
      "metadata": {
        "id": "A0DgnEZn4b2c"
      },
      "execution_count": null,
      "outputs": []
    }
  ]
}