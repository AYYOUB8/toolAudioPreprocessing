{
  "cells": [
    {
      "cell_type": "markdown",
      "metadata": {
        "id": "view-in-github",
        "colab_type": "text"
      },
      "source": [
        "<a href=\"https://colab.research.google.com/github/AYYOUB8/toolAudioPreprocessing/blob/main/VAD.ipynb\" target=\"_parent\"><img src=\"https://colab.research.google.com/assets/colab-badge.svg\" alt=\"Open In Colab\"/></a>"
      ]
    },
    {
      "cell_type": "code",
      "execution_count": 1,
      "metadata": {
        "colab": {
          "base_uri": "https://localhost:8080/"
        },
        "id": "URKukeuvgwWw",
        "outputId": "f3dd229d-f768-4dfc-9e79-27468b1ede22"
      },
      "outputs": [
        {
          "output_type": "stream",
          "name": "stdout",
          "text": [
            "Cloning into 'Datadriven-VAD'...\n",
            "remote: Enumerating objects: 175, done.\u001b[K\n",
            "remote: Counting objects: 100% (40/40), done.\u001b[K\n",
            "remote: Compressing objects: 100% (8/8), done.\u001b[K\n",
            "remote: Total 175 (delta 35), reused 32 (delta 32), pack-reused 135\u001b[K\n",
            "Receiving objects: 100% (175/175), 21.18 MiB | 15.94 MiB/s, done.\n",
            "Resolving deltas: 100% (76/76), done.\n"
          ]
        }
      ],
      "source": [
        "!git clone https://github.com/RicherMans/Datadriven-VAD"
      ]
    },
    {
      "cell_type": "code",
      "execution_count": 2,
      "metadata": {
        "colab": {
          "base_uri": "https://localhost:8080/"
        },
        "id": "KL3PF1gmSptn",
        "outputId": "63f52624-ec24-4a0c-f1dc-7ec9fca04408"
      },
      "outputs": [
        {
          "output_type": "stream",
          "name": "stdout",
          "text": [
            "/content/Datadriven-VAD\n"
          ]
        }
      ],
      "source": [
        "cd /content/Datadriven-VAD  "
      ]
    },
    {
      "cell_type": "code",
      "source": [
        "!pip install -r requirements.txt"
      ],
      "metadata": {
        "colab": {
          "base_uri": "https://localhost:8080/",
          "height": 1000
        },
        "id": "gwQpw70LO0A4",
        "outputId": "b983b78b-d524-4602-8c1b-35de75beccbe"
      },
      "execution_count": 3,
      "outputs": [
        {
          "output_type": "stream",
          "name": "stdout",
          "text": [
            "Looking in indexes: https://pypi.org/simple, https://us-python.pkg.dev/colab-wheels/public/simple/\n",
            "Collecting pandas==1.1.0\n",
            "  Downloading pandas-1.1.0-cp37-cp37m-manylinux1_x86_64.whl (10.5 MB)\n",
            "\u001b[K     |████████████████████████████████| 10.5 MB 38.3 MB/s \n",
            "\u001b[?25hCollecting SoundFile==0.10.2\n",
            "  Downloading SoundFile-0.10.2-py2.py3-none-any.whl (25 kB)\n",
            "Collecting numpy==1.16.4\n",
            "  Downloading numpy-1.16.4-cp37-cp37m-manylinux1_x86_64.whl (17.3 MB)\n",
            "\u001b[K     |████████████████████████████████| 17.3 MB 59.9 MB/s \n",
            "\u001b[?25hCollecting loguru==0.4.0\n",
            "  Downloading loguru-0.4.0-py3-none-any.whl (52 kB)\n",
            "\u001b[K     |████████████████████████████████| 52 kB 1.3 MB/s \n",
            "\u001b[?25hCollecting h5py==2.9.0\n",
            "  Downloading h5py-2.9.0-cp37-cp37m-manylinux1_x86_64.whl (2.8 MB)\n",
            "\u001b[K     |████████████████████████████████| 2.8 MB 67.2 MB/s \n",
            "\u001b[?25hCollecting scipy==1.3.0\n",
            "  Downloading scipy-1.3.0-cp37-cp37m-manylinux1_x86_64.whl (25.2 MB)\n",
            "\u001b[K     |████████████████████████████████| 25.2 MB 1.2 MB/s \n",
            "\u001b[?25hCollecting torch==1.2.0\n",
            "  Downloading torch-1.2.0-cp37-cp37m-manylinux1_x86_64.whl (748.9 MB)\n",
            "\u001b[K     |████████████████████████████████| 748.9 MB 682 bytes/s \n",
            "\u001b[?25hCollecting sed_eval==0.2.1\n",
            "  Downloading sed_eval-0.2.1.tar.gz (21 kB)\n",
            "Collecting pytorch_ignite==0.2.0\n",
            "  Downloading pytorch_ignite-0.2.0-py2.py3-none-any.whl (73 kB)\n",
            "\u001b[K     |████████████████████████████████| 73 kB 2.9 MB/s \n",
            "\u001b[?25hCollecting tqdm==4.32.2\n",
            "  Downloading tqdm-4.32.2-py2.py3-none-any.whl (50 kB)\n",
            "\u001b[K     |████████████████████████████████| 50 kB 7.2 MB/s \n",
            "\u001b[?25hCollecting tabulate==0.8.3\n",
            "  Downloading tabulate-0.8.3.tar.gz (46 kB)\n",
            "\u001b[K     |████████████████████████████████| 46 kB 4.4 MB/s \n",
            "\u001b[?25hCollecting six==1.12.0\n",
            "  Downloading six-1.12.0-py2.py3-none-any.whl (10 kB)\n",
            "Collecting fire==0.1.3\n",
            "  Downloading fire-0.1.3.tar.gz (33 kB)\n",
            "Collecting librosa==0.7.0\n",
            "  Downloading librosa-0.7.0.tar.gz (1.6 MB)\n",
            "\u001b[K     |████████████████████████████████| 1.6 MB 57.0 MB/s \n",
            "\u001b[?25hCollecting ignite==1.1.0\n",
            "  Downloading ignite-1.1.0-py2.py3-none-any.whl (4.5 kB)\n",
            "Collecting scikit_learn==0.23.1\n",
            "  Downloading scikit_learn-0.23.1-cp37-cp37m-manylinux1_x86_64.whl (6.8 MB)\n",
            "\u001b[K     |████████████████████████████████| 6.8 MB 49.2 MB/s \n",
            "\u001b[?25hCollecting typing==3.7.4.1\n",
            "  Downloading typing-3.7.4.1-py3-none-any.whl (25 kB)\n",
            "Collecting PyYAML==5.4\n",
            "  Downloading PyYAML-5.4-cp37-cp37m-manylinux1_x86_64.whl (636 kB)\n",
            "\u001b[K     |████████████████████████████████| 636 kB 75.6 MB/s \n",
            "\u001b[?25hCollecting numba==0.48\n",
            "  Downloading numba-0.48.0-1-cp37-cp37m-manylinux2014_x86_64.whl (3.5 MB)\n",
            "\u001b[K     |████████████████████████████████| 3.5 MB 48.6 MB/s \n",
            "\u001b[?25hCollecting pypeln\n",
            "  Downloading pypeln-0.4.9-py3-none-any.whl (105 kB)\n",
            "\u001b[K     |████████████████████████████████| 105 kB 71.4 MB/s \n",
            "\u001b[?25hRequirement already satisfied: python-dateutil>=2.7.3 in /usr/local/lib/python3.7/dist-packages (from pandas==1.1.0->-r requirements.txt (line 1)) (2.8.2)\n",
            "Requirement already satisfied: pytz>=2017.2 in /usr/local/lib/python3.7/dist-packages (from pandas==1.1.0->-r requirements.txt (line 1)) (2022.2.1)\n",
            "Requirement already satisfied: cffi>=1.0 in /usr/local/lib/python3.7/dist-packages (from SoundFile==0.10.2->-r requirements.txt (line 2)) (1.15.1)\n",
            "Collecting dcase_util>=0.2.4\n",
            "  Downloading dcase_util-0.2.20.tar.gz (2.1 MB)\n",
            "\u001b[K     |████████████████████████████████| 2.1 MB 52.3 MB/s \n",
            "\u001b[?25hRequirement already satisfied: audioread>=2.0.0 in /usr/local/lib/python3.7/dist-packages (from librosa==0.7.0->-r requirements.txt (line 14)) (3.0.0)\n",
            "Requirement already satisfied: joblib>=0.12 in /usr/local/lib/python3.7/dist-packages (from librosa==0.7.0->-r requirements.txt (line 14)) (1.1.0)\n",
            "Requirement already satisfied: decorator>=3.0.0 in /usr/local/lib/python3.7/dist-packages (from librosa==0.7.0->-r requirements.txt (line 14)) (4.4.2)\n",
            "Requirement already satisfied: resampy>=0.2.0 in /usr/local/lib/python3.7/dist-packages (from librosa==0.7.0->-r requirements.txt (line 14)) (0.4.0)\n",
            "Requirement already satisfied: wrapt in /usr/local/lib/python3.7/dist-packages (from ignite==1.1.0->-r requirements.txt (line 15)) (1.14.1)\n",
            "Requirement already satisfied: requests in /usr/local/lib/python3.7/dist-packages (from ignite==1.1.0->-r requirements.txt (line 15)) (2.23.0)\n",
            "Requirement already satisfied: threadpoolctl>=2.0.0 in /usr/local/lib/python3.7/dist-packages (from scikit_learn==0.23.1->-r requirements.txt (line 16)) (3.1.0)\n",
            "Requirement already satisfied: setuptools in /usr/local/lib/python3.7/dist-packages (from numba==0.48->-r requirements.txt (line 19)) (57.4.0)\n",
            "Collecting llvmlite<0.32.0,>=0.31.0dev0\n",
            "  Downloading llvmlite-0.31.0-cp37-cp37m-manylinux1_x86_64.whl (20.2 MB)\n",
            "\u001b[K     |████████████████████████████████| 20.2 MB 96.1 MB/s \n",
            "\u001b[?25hRequirement already satisfied: pycparser in /usr/local/lib/python3.7/dist-packages (from cffi>=1.0->SoundFile==0.10.2->-r requirements.txt (line 2)) (2.21)\n",
            "Requirement already satisfied: matplotlib>=2.0.0 in /usr/local/lib/python3.7/dist-packages (from dcase_util>=0.2.4->sed_eval==0.2.1->-r requirements.txt (line 8)) (3.2.2)\n",
            "Requirement already satisfied: future>=0.16.0 in /usr/local/lib/python3.7/dist-packages (from dcase_util>=0.2.4->sed_eval==0.2.1->-r requirements.txt (line 8)) (0.16.0)\n",
            "Requirement already satisfied: pydot-ng>=1.0.0 in /usr/local/lib/python3.7/dist-packages (from dcase_util>=0.2.4->sed_eval==0.2.1->-r requirements.txt (line 8)) (2.0.0)\n",
            "Collecting validators>=0.12.0\n",
            "  Downloading validators-0.20.0.tar.gz (30 kB)\n",
            "Collecting python-magic>=0.4.13\n",
            "  Downloading python_magic-0.4.27-py2.py3-none-any.whl (13 kB)\n",
            "Requirement already satisfied: kiwisolver>=1.0.1 in /usr/local/lib/python3.7/dist-packages (from matplotlib>=2.0.0->dcase_util>=0.2.4->sed_eval==0.2.1->-r requirements.txt (line 8)) (1.4.4)\n",
            "Requirement already satisfied: cycler>=0.10 in /usr/local/lib/python3.7/dist-packages (from matplotlib>=2.0.0->dcase_util>=0.2.4->sed_eval==0.2.1->-r requirements.txt (line 8)) (0.11.0)\n",
            "Requirement already satisfied: pyparsing!=2.0.4,!=2.1.2,!=2.1.6,>=2.0.1 in /usr/local/lib/python3.7/dist-packages (from matplotlib>=2.0.0->dcase_util>=0.2.4->sed_eval==0.2.1->-r requirements.txt (line 8)) (3.0.9)\n",
            "Requirement already satisfied: typing-extensions in /usr/local/lib/python3.7/dist-packages (from kiwisolver>=1.0.1->matplotlib>=2.0.0->dcase_util>=0.2.4->sed_eval==0.2.1->-r requirements.txt (line 8)) (4.1.1)\n",
            "Requirement already satisfied: certifi>=2017.4.17 in /usr/local/lib/python3.7/dist-packages (from requests->ignite==1.1.0->-r requirements.txt (line 15)) (2022.6.15)\n",
            "Requirement already satisfied: idna<3,>=2.5 in /usr/local/lib/python3.7/dist-packages (from requests->ignite==1.1.0->-r requirements.txt (line 15)) (2.10)\n",
            "Requirement already satisfied: chardet<4,>=3.0.2 in /usr/local/lib/python3.7/dist-packages (from requests->ignite==1.1.0->-r requirements.txt (line 15)) (3.0.4)\n",
            "Requirement already satisfied: urllib3!=1.25.0,!=1.25.1,<1.26,>=1.21.1 in /usr/local/lib/python3.7/dist-packages (from requests->ignite==1.1.0->-r requirements.txt (line 15)) (1.24.3)\n",
            "Collecting resampy>=0.2.0\n",
            "  Downloading resampy-0.3.1-py3-none-any.whl (3.1 MB)\n",
            "\u001b[K     |████████████████████████████████| 3.1 MB 55.1 MB/s \n",
            "\u001b[?25h  Downloading resampy-0.3.0-py3-none-any.whl (3.1 MB)\n",
            "\u001b[K     |████████████████████████████████| 3.1 MB 58.8 MB/s \n",
            "\u001b[?25h  Downloading resampy-0.2.2.tar.gz (323 kB)\n",
            "\u001b[K     |████████████████████████████████| 323 kB 74.8 MB/s \n",
            "\u001b[?25hCollecting typing-extensions\n",
            "  Downloading typing_extensions-3.10.0.2-py3-none-any.whl (26 kB)\n",
            "Collecting stopit<2.0.0,>=1.1.2\n",
            "  Downloading stopit-1.1.2.tar.gz (18 kB)\n",
            "Building wheels for collected packages: sed-eval, tabulate, fire, librosa, dcase-util, resampy, validators, stopit\n",
            "  Building wheel for sed-eval (setup.py) ... \u001b[?25l\u001b[?25hdone\n",
            "  Created wheel for sed-eval: filename=sed_eval-0.2.1-py3-none-any.whl size=26124 sha256=6072209a9f7b1935ad5de0468d3b4ce3d576d4194ab9a88950758f863035e1cd\n",
            "  Stored in directory: /root/.cache/pip/wheels/96/19/00/a3ec89acfdbd2568185a1ae3020590e76ee73a47ac4ff83e84\n",
            "  Building wheel for tabulate (setup.py) ... \u001b[?25l\u001b[?25hdone\n",
            "  Created wheel for tabulate: filename=tabulate-0.8.3-py3-none-any.whl size=23391 sha256=3b1373d7937e19594c8e99a47377aed891c22a3de25574bfd3d053e144992443\n",
            "  Stored in directory: /root/.cache/pip/wheels/b8/a2/a6/812a8a9735b090913e109133c7c20aaca4cf07e8e18837714f\n",
            "  Building wheel for fire (setup.py) ... \u001b[?25l\u001b[?25hdone\n",
            "  Created wheel for fire: filename=fire-0.1.3-py2.py3-none-any.whl size=49719 sha256=f1d9efd358ef48ff72086e43df28c2cf64bc228fb8ff87f0017b432df47d1cc8\n",
            "  Stored in directory: /root/.cache/pip/wheels/dd/c5/df/d9bf8223023d31343b65f1cc57d2dc005610ebbcd2b4a5d1e7\n",
            "  Building wheel for librosa (setup.py) ... \u001b[?25l\u001b[?25hdone\n",
            "  Created wheel for librosa: filename=librosa-0.7.0-py3-none-any.whl size=1598360 sha256=da6099d6e73094d211b3811bf3524a328ac72b26be2577f23d44e3ef0dfe0dbe\n",
            "  Stored in directory: /root/.cache/pip/wheels/f5/0d/b1/71a4e1863d7577a218f771df59c7582996580fa07ac79d68fd\n",
            "  Building wheel for dcase-util (setup.py) ... \u001b[?25l\u001b[?25hdone\n",
            "  Created wheel for dcase-util: filename=dcase_util-0.2.20-py3-none-any.whl size=2164609 sha256=dd7bb853f3794a043d097bcb6ab000e5aec8ee8af2b1c4c2cfd0ef7d81683737\n",
            "  Stored in directory: /root/.cache/pip/wheels/73/6c/59/da4cd652330435bcf3960b9f04307589b64e9258b7c0e4523e\n",
            "  Building wheel for resampy (setup.py) ... \u001b[?25l\u001b[?25hdone\n",
            "  Created wheel for resampy: filename=resampy-0.2.2-py3-none-any.whl size=320732 sha256=30f858ed6f8346a3c7221b8eaa0ba52d956bc31562805606b47d67b019a97180\n",
            "  Stored in directory: /root/.cache/pip/wheels/a0/18/0a/8ad18a597d8333a142c9789338a96a6208f1198d290ece356c\n",
            "  Building wheel for validators (setup.py) ... \u001b[?25l\u001b[?25hdone\n",
            "  Created wheel for validators: filename=validators-0.20.0-py3-none-any.whl size=19582 sha256=236850d0b0fb21bd6cda152bf32f2e0f505d5c4b905384bfa311099902a71f02\n",
            "  Stored in directory: /root/.cache/pip/wheels/5f/55/ab/36a76989f7f88d9ca7b1f68da6d94252bb6a8d6ad4f18e04e9\n",
            "  Building wheel for stopit (setup.py) ... \u001b[?25l\u001b[?25hdone\n",
            "  Created wheel for stopit: filename=stopit-1.1.2-py3-none-any.whl size=11956 sha256=8483775a3ffab9467c5138fe23819ce73234756a9e51b924782108bf892d8c2d\n",
            "  Stored in directory: /root/.cache/pip/wheels/e2/d2/79/eaf81edb391e27c87f51b8ef901ecc85a5363dc96b8b8d71e3\n",
            "Successfully built sed-eval tabulate fire librosa dcase-util resampy validators stopit\n",
            "Installing collected packages: numpy, llvmlite, typing-extensions, six, scipy, numba, SoundFile, scikit-learn, resampy, validators, tqdm, PyYAML, python-magic, librosa, torch, stopit, dcase-util, typing, tabulate, sed-eval, pytorch-ignite, pypeln, pandas, loguru, ignite, h5py, fire\n",
            "  Attempting uninstall: numpy\n",
            "    Found existing installation: numpy 1.21.6\n",
            "    Uninstalling numpy-1.21.6:\n",
            "      Successfully uninstalled numpy-1.21.6\n",
            "  Attempting uninstall: llvmlite\n",
            "    Found existing installation: llvmlite 0.39.0\n",
            "    Uninstalling llvmlite-0.39.0:\n",
            "      Successfully uninstalled llvmlite-0.39.0\n",
            "  Attempting uninstall: typing-extensions\n",
            "    Found existing installation: typing-extensions 4.1.1\n",
            "    Uninstalling typing-extensions-4.1.1:\n",
            "      Successfully uninstalled typing-extensions-4.1.1\n",
            "  Attempting uninstall: six\n",
            "    Found existing installation: six 1.15.0\n",
            "    Uninstalling six-1.15.0:\n",
            "      Successfully uninstalled six-1.15.0\n",
            "  Attempting uninstall: scipy\n",
            "    Found existing installation: scipy 1.7.3\n",
            "    Uninstalling scipy-1.7.3:\n",
            "      Successfully uninstalled scipy-1.7.3\n",
            "  Attempting uninstall: numba\n",
            "    Found existing installation: numba 0.56.0\n",
            "    Uninstalling numba-0.56.0:\n",
            "      Successfully uninstalled numba-0.56.0\n",
            "  Attempting uninstall: SoundFile\n",
            "    Found existing installation: SoundFile 0.10.3.post1\n",
            "    Uninstalling SoundFile-0.10.3.post1:\n",
            "      Successfully uninstalled SoundFile-0.10.3.post1\n",
            "  Attempting uninstall: scikit-learn\n",
            "    Found existing installation: scikit-learn 1.0.2\n",
            "    Uninstalling scikit-learn-1.0.2:\n",
            "      Successfully uninstalled scikit-learn-1.0.2\n",
            "  Attempting uninstall: resampy\n",
            "    Found existing installation: resampy 0.4.0\n",
            "    Uninstalling resampy-0.4.0:\n",
            "      Successfully uninstalled resampy-0.4.0\n",
            "  Attempting uninstall: tqdm\n",
            "    Found existing installation: tqdm 4.64.0\n",
            "    Uninstalling tqdm-4.64.0:\n",
            "      Successfully uninstalled tqdm-4.64.0\n",
            "  Attempting uninstall: PyYAML\n",
            "    Found existing installation: PyYAML 6.0\n",
            "    Uninstalling PyYAML-6.0:\n",
            "      Successfully uninstalled PyYAML-6.0\n",
            "  Attempting uninstall: librosa\n",
            "    Found existing installation: librosa 0.8.1\n",
            "    Uninstalling librosa-0.8.1:\n",
            "      Successfully uninstalled librosa-0.8.1\n",
            "  Attempting uninstall: torch\n",
            "    Found existing installation: torch 1.12.1+cu113\n",
            "    Uninstalling torch-1.12.1+cu113:\n",
            "      Successfully uninstalled torch-1.12.1+cu113\n",
            "  Attempting uninstall: tabulate\n",
            "    Found existing installation: tabulate 0.8.10\n",
            "    Uninstalling tabulate-0.8.10:\n",
            "      Successfully uninstalled tabulate-0.8.10\n",
            "  Attempting uninstall: pandas\n",
            "    Found existing installation: pandas 1.3.5\n",
            "    Uninstalling pandas-1.3.5:\n",
            "      Successfully uninstalled pandas-1.3.5\n",
            "  Attempting uninstall: h5py\n",
            "    Found existing installation: h5py 3.1.0\n",
            "    Uninstalling h5py-3.1.0:\n",
            "      Successfully uninstalled h5py-3.1.0\n",
            "\u001b[31mERROR: pip's dependency resolver does not currently take into account all the packages that are installed. This behaviour is the source of the following dependency conflicts.\n",
            "ipython 7.9.0 requires jedi>=0.10, which is not installed.\n",
            "yellowbrick 1.4 requires scikit-learn>=1.0.0, but you have scikit-learn 0.23.1 which is incompatible.\n",
            "xarray 0.20.2 requires numpy>=1.18, but you have numpy 1.16.4 which is incompatible.\n",
            "xarray-einstats 0.2.2 requires numpy>=1.21, but you have numpy 1.16.4 which is incompatible.\n",
            "torchvision 0.13.1+cu113 requires torch==1.12.1, but you have torch 1.2.0 which is incompatible.\n",
            "torchtext 0.13.1 requires torch==1.12.1, but you have torch 1.2.0 which is incompatible.\n",
            "torchaudio 0.12.1+cu113 requires torch==1.12.1, but you have torch 1.2.0 which is incompatible.\n",
            "tensorflow 2.8.2+zzzcolab20220719082949 requires numpy>=1.20, but you have numpy 1.16.4 which is incompatible.\n",
            "tables 3.7.0 requires numpy>=1.19.0, but you have numpy 1.16.4 which is incompatible.\n",
            "spacy 3.4.1 requires tqdm<5.0.0,>=4.38.0, but you have tqdm 4.32.2 which is incompatible.\n",
            "scikit-image 0.18.3 requires numpy>=1.16.5, but you have numpy 1.16.4 which is incompatible.\n",
            "pywavelets 1.3.0 requires numpy>=1.17.3, but you have numpy 1.16.4 which is incompatible.\n",
            "pymc3 3.11.5 requires scipy<1.8.0,>=1.7.3, but you have scipy 1.3.0 which is incompatible.\n",
            "pyerfa 2.0.0.1 requires numpy>=1.17, but you have numpy 1.16.4 which is incompatible.\n",
            "pyarrow 6.0.1 requires numpy>=1.16.6, but you have numpy 1.16.4 which is incompatible.\n",
            "prophet 1.1 requires tqdm>=4.36.1, but you have tqdm 4.32.2 which is incompatible.\n",
            "plotnine 0.8.0 requires numpy>=1.19.0, but you have numpy 1.16.4 which is incompatible.\n",
            "plotnine 0.8.0 requires scipy>=1.5.0, but you have scipy 1.3.0 which is incompatible.\n",
            "panel 0.12.1 requires tqdm>=4.48.0, but you have tqdm 4.32.2 which is incompatible.\n",
            "kapre 0.3.7 requires librosa>=0.7.2, but you have librosa 0.7.0 which is incompatible.\n",
            "kapre 0.3.7 requires numpy>=1.18.5, but you have numpy 1.16.4 which is incompatible.\n",
            "jaxlib 0.3.14+cuda11.cudnn805 requires numpy>=1.19, but you have numpy 1.16.4 which is incompatible.\n",
            "jaxlib 0.3.14+cuda11.cudnn805 requires scipy>=1.5, but you have scipy 1.3.0 which is incompatible.\n",
            "jax 0.3.14 requires numpy>=1.19, but you have numpy 1.16.4 which is incompatible.\n",
            "jax 0.3.14 requires scipy>=1.5, but you have scipy 1.3.0 which is incompatible.\n",
            "imbalanced-learn 0.8.1 requires scikit-learn>=0.24, but you have scikit-learn 0.23.1 which is incompatible.\n",
            "gym 0.25.1 requires numpy>=1.18.0, but you have numpy 1.16.4 which is incompatible.\n",
            "google-api-python-client 1.12.11 requires six<2dev,>=1.13.0, but you have six 1.12.0 which is incompatible.\n",
            "google-api-core 1.31.6 requires six>=1.13.0, but you have six 1.12.0 which is incompatible.\n",
            "fastai 2.7.9 requires torch<1.14,>=1.7, but you have torch 1.2.0 which is incompatible.\n",
            "cupy-cuda111 9.4.0 requires numpy<1.24,>=1.17, but you have numpy 1.16.4 which is incompatible.\n",
            "cmdstanpy 1.0.4 requires numpy>=1.21, but you have numpy 1.16.4 which is incompatible.\n",
            "astropy 4.3.1 requires numpy>=1.17, but you have numpy 1.16.4 which is incompatible.\u001b[0m\n",
            "Successfully installed PyYAML-5.4 SoundFile-0.10.2 dcase-util-0.2.20 fire-0.1.3 h5py-2.9.0 ignite-1.1.0 librosa-0.7.0 llvmlite-0.31.0 loguru-0.4.0 numba-0.48.0 numpy-1.16.4 pandas-1.1.0 pypeln-0.4.9 python-magic-0.4.27 pytorch-ignite-0.2.0 resampy-0.2.2 scikit-learn-0.23.1 scipy-1.3.0 sed-eval-0.2.1 six-1.12.0 stopit-1.1.2 tabulate-0.8.3 torch-1.2.0 tqdm-4.32.2 typing-3.7.4.1 typing-extensions-3.10.0.2 validators-0.20.0\n"
          ]
        },
        {
          "output_type": "display_data",
          "data": {
            "application/vnd.colab-display-data+json": {
              "pip_warning": {
                "packages": [
                  "numpy",
                  "six",
                  "typing",
                  "typing_extensions"
                ]
              }
            }
          },
          "metadata": {}
        }
      ]
    },
    {
      "cell_type": "code",
      "source": [
        "!pip install pydub "
      ],
      "metadata": {
        "colab": {
          "base_uri": "https://localhost:8080/"
        },
        "id": "P1o0wSnD5Fxi",
        "outputId": "b303d7db-bc10-4d30-c5c6-f48b8194c714"
      },
      "execution_count": 4,
      "outputs": [
        {
          "output_type": "stream",
          "name": "stdout",
          "text": [
            "Looking in indexes: https://pypi.org/simple, https://us-python.pkg.dev/colab-wheels/public/simple/\n",
            "Collecting pydub\n",
            "  Downloading pydub-0.25.1-py2.py3-none-any.whl (32 kB)\n",
            "Installing collected packages: pydub\n",
            "Successfully installed pydub-0.25.1\n"
          ]
        }
      ]
    },
    {
      "cell_type": "code",
      "source": [
        "#add to forward.py\n",
        "from pydub import AudioSegment\n",
        "import IPython.display as ipd\n",
        "\n",
        "#add to line  268 in forward.py\n",
        "       on=prediction_df['onset'][:].tolist()\n",
        "        off = prediction_df['offset'][:].tolist()\n",
        "        on=[i*1000 for i in on]\n",
        "        on=[int(i) for i in on]\n",
        "        off=[i*1000 for i in off]\n",
        "        off=[int(i) for i in off]\n",
        "        onoff= on+off\n",
        "        combined_sounds = AudioSegment.empty() \n",
        "        newAudio = AudioSegment.from_wav(wavlist[0])\n",
        "        for i in range(len(onoff)//2):\n",
        "          combined_sounds += newAudio[onoff[i]:onoff[i+len(onoff)//2]]\n",
        "        combined_sounds.export('predictedspeech.wav', format=\"wav\") #Exports to a wav file in the current path."
      ],
      "metadata": {
        "id": "NaedW7ksOQlF"
      },
      "execution_count": 7,
      "outputs": []
    },
    {
      "cell_type": "code",
      "execution_count": 8,
      "metadata": {
        "colab": {
          "base_uri": "https://localhost:8080/"
        },
        "id": "2K5_IoifSu-1",
        "outputId": "e511f310-2b38-4be9-ef9e-d8f23fe35e6a"
      },
      "outputs": [
        {
          "output_type": "stream",
          "name": "stdout",
          "text": [
            "\u001b[32m2022-08-26 16:18:06.564\u001b[0m | \u001b[1mINFO    \u001b[0m | \u001b[36m__main__\u001b[0m:\u001b[36mmain\u001b[0m:\u001b[36m160\u001b[0m - \u001b[1mPassed args\u001b[0m\n",
            "\u001b[32m2022-08-26 16:18:06.564\u001b[0m | \u001b[1mINFO    \u001b[0m | \u001b[36m__main__\u001b[0m:\u001b[36mmain\u001b[0m:\u001b[36m162\u001b[0m - \u001b[1mwav : /content/Datadriven-VAD/example/example.wav\u001b[0m\n",
            "\u001b[32m2022-08-26 16:18:06.564\u001b[0m | \u001b[1mINFO    \u001b[0m | \u001b[36m__main__\u001b[0m:\u001b[36mmain\u001b[0m:\u001b[36m162\u001b[0m - \u001b[1mwavlist : None      \u001b[0m\n",
            "\u001b[32m2022-08-26 16:18:06.564\u001b[0m | \u001b[1mINFO    \u001b[0m | \u001b[36m__main__\u001b[0m:\u001b[36mmain\u001b[0m:\u001b[36m162\u001b[0m - \u001b[1mmodel : sre       \u001b[0m\n",
            "\u001b[32m2022-08-26 16:18:06.564\u001b[0m | \u001b[1mINFO    \u001b[0m | \u001b[36m__main__\u001b[0m:\u001b[36mmain\u001b[0m:\u001b[36m162\u001b[0m - \u001b[1mpretrained_dir : pretrained_models\u001b[0m\n",
            "\u001b[32m2022-08-26 16:18:06.564\u001b[0m | \u001b[1mINFO    \u001b[0m | \u001b[36m__main__\u001b[0m:\u001b[36mmain\u001b[0m:\u001b[36m162\u001b[0m - \u001b[1moutput_path : None      \u001b[0m\n",
            "\u001b[32m2022-08-26 16:18:06.564\u001b[0m | \u001b[1mINFO    \u001b[0m | \u001b[36m__main__\u001b[0m:\u001b[36mmain\u001b[0m:\u001b[36m162\u001b[0m - \u001b[1msoft : False     \u001b[0m\n",
            "\u001b[32m2022-08-26 16:18:06.565\u001b[0m | \u001b[1mINFO    \u001b[0m | \u001b[36m__main__\u001b[0m:\u001b[36mmain\u001b[0m:\u001b[36m162\u001b[0m - \u001b[1mhard : False     \u001b[0m\n",
            "\u001b[32m2022-08-26 16:18:06.565\u001b[0m | \u001b[1mINFO    \u001b[0m | \u001b[36m__main__\u001b[0m:\u001b[36mmain\u001b[0m:\u001b[36m162\u001b[0m - \u001b[1mthreshold : (0.5, 0.1)\u001b[0m\n",
            "/usr/local/lib/python3.7/dist-packages/sklearn/utils/deprecation.py:143: FutureWarning: The sklearn.preprocessing.label module is  deprecated in version 0.22 and will be removed in version 0.24. The corresponding classes / functions should instead be imported from sklearn.preprocessing. Anything that cannot be imported from sklearn.preprocessing is now part of the private API.\n",
            "  warnings.warn(message, FutureWarning)\n",
            "/usr/local/lib/python3.7/dist-packages/sklearn/base.py:334: UserWarning: Trying to unpickle estimator MultiLabelBinarizer from version 0.21.2 when using version 0.23.1. This might lead to breaking code or invalid results. Use at your own risk.\n",
            "  UserWarning)\n",
            "forward.py:267: FutureWarning: 'showindex' is deprecated. Only 'index' will be used in a future version. Use 'index' to silence this warning.\n",
            "  print(prediction_df.to_markdown(showindex=False))\n",
            "|   index | event_label   |   onset |   offset | filename                                    |\n",
            "|--------:|:--------------|--------:|---------:|:--------------------------------------------|\n",
            "|       0 | Speech        |    0.26 |     0.94 | /content/Datadriven-VAD/example/example.wav |\n",
            "|       1 | Speech        |    1.06 |     2.2  | /content/Datadriven-VAD/example/example.wav |\n"
          ]
        }
      ],
      "source": [
        "!python3 forward.py -w [pathtofile]"
      ]
    },
    {
      "cell_type": "code",
      "source": [],
      "metadata": {
        "id": "XtwqBP2Nys0m"
      },
      "execution_count": null,
      "outputs": []
    }
  ],
  "metadata": {
    "accelerator": "GPU",
    "colab": {
      "collapsed_sections": [],
      "name": "VAD.ipynb",
      "provenance": [],
      "authorship_tag": "ABX9TyNF+tWtGVYCGHafpOq2BBqO",
      "include_colab_link": true
    },
    "gpuClass": "standard",
    "kernelspec": {
      "display_name": "Python 3",
      "name": "python3"
    },
    "language_info": {
      "name": "python"
    }
  },
  "nbformat": 4,
  "nbformat_minor": 0
}