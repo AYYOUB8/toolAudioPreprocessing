{
  "cells": [
    {
      "cell_type": "markdown",
      "metadata": {
        "id": "view-in-github",
        "colab_type": "text"
      },
      "source": [
        "<a href=\"https://colab.research.google.com/github/AYYOUB8/toolAudioPreprocessing/blob/main/toolforaudio.ipynb\" target=\"_parent\"><img src=\"https://colab.research.google.com/assets/colab-badge.svg\" alt=\"Open In Colab\"/></a>"
      ]
    },
    {
      "cell_type": "code",
      "execution_count": 1,
      "metadata": {
        "colab": {
          "base_uri": "https://localhost:8080/"
        },
        "id": "URKukeuvgwWw",
        "outputId": "f7f22f2d-14b4-4edf-d995-dcf833034ca7"
      },
      "outputs": [
        {
          "output_type": "stream",
          "name": "stdout",
          "text": [
            "Cloning into 'Datadriven-VAD'...\n",
            "remote: Enumerating objects: 175, done.\u001b[K\n",
            "remote: Counting objects: 100% (40/40), done.\u001b[K\n",
            "remote: Compressing objects: 100% (8/8), done.\u001b[K\n",
            "remote: Total 175 (delta 35), reused 32 (delta 32), pack-reused 135\u001b[K\n",
            "Receiving objects: 100% (175/175), 21.18 MiB | 17.56 MiB/s, done.\n",
            "Resolving deltas: 100% (76/76), done.\n"
          ]
        }
      ],
      "source": [
        "!git clone https://github.com/RicherMans/Datadriven-VAD"
      ]
    },
    {
      "cell_type": "code",
      "execution_count": 17,
      "metadata": {
        "colab": {
          "base_uri": "https://localhost:8080/"
        },
        "id": "KL3PF1gmSptn",
        "outputId": "4c1806d4-cc06-4423-ad05-a1c7342b1dfc"
      },
      "outputs": [
        {
          "output_type": "stream",
          "name": "stdout",
          "text": [
            "/content/Datadriven-VAD\n"
          ]
        }
      ],
      "source": [
        "cd /content/Datadriven-VAD  "
      ]
    },
    {
      "cell_type": "code",
      "source": [
        "!pip install -r requirements.txt\n",
        "!pip install -U -r requirements2.txt"
      ],
      "metadata": {
        "colab": {
          "base_uri": "https://localhost:8080/"
        },
        "id": "gwQpw70LO0A4",
        "outputId": "e69efed3-b0ef-4cd4-fbb4-5c7fe3409d7d"
      },
      "execution_count": 18,
      "outputs": [
        {
          "output_type": "stream",
          "name": "stdout",
          "text": [
            "Looking in indexes: https://pypi.org/simple, https://us-python.pkg.dev/colab-wheels/public/simple/\n",
            "Requirement already satisfied: pandas==1.1.0 in /usr/local/lib/python3.7/dist-packages (from -r requirements.txt (line 1)) (1.1.0)\n",
            "Requirement already satisfied: SoundFile==0.10.2 in /usr/local/lib/python3.7/dist-packages (from -r requirements.txt (line 2)) (0.10.2)\n",
            "Requirement already satisfied: numpy==1.16.4 in /usr/local/lib/python3.7/dist-packages (from -r requirements.txt (line 3)) (1.16.4)\n",
            "Requirement already satisfied: loguru==0.4.0 in /usr/local/lib/python3.7/dist-packages (from -r requirements.txt (line 4)) (0.4.0)\n",
            "Requirement already satisfied: h5py==2.9.0 in /usr/local/lib/python3.7/dist-packages (from -r requirements.txt (line 5)) (2.9.0)\n",
            "Requirement already satisfied: scipy==1.3.0 in /usr/local/lib/python3.7/dist-packages (from -r requirements.txt (line 6)) (1.3.0)\n",
            "Collecting torch==1.2.0\n",
            "  Using cached torch-1.2.0-cp37-cp37m-manylinux1_x86_64.whl (748.9 MB)\n",
            "Requirement already satisfied: sed_eval==0.2.1 in /usr/local/lib/python3.7/dist-packages (from -r requirements.txt (line 8)) (0.2.1)\n",
            "Requirement already satisfied: pytorch_ignite==0.2.0 in /usr/local/lib/python3.7/dist-packages (from -r requirements.txt (line 9)) (0.2.0)\n",
            "Requirement already satisfied: tqdm==4.32.2 in /usr/local/lib/python3.7/dist-packages (from -r requirements.txt (line 10)) (4.32.2)\n",
            "Requirement already satisfied: tabulate==0.8.3 in /usr/local/lib/python3.7/dist-packages (from -r requirements.txt (line 11)) (0.8.3)\n",
            "Requirement already satisfied: six==1.12.0 in /usr/local/lib/python3.7/dist-packages (from -r requirements.txt (line 12)) (1.12.0)\n",
            "Requirement already satisfied: fire==0.1.3 in /usr/local/lib/python3.7/dist-packages (from -r requirements.txt (line 13)) (0.1.3)\n",
            "Requirement already satisfied: librosa==0.7.0 in /usr/local/lib/python3.7/dist-packages (from -r requirements.txt (line 14)) (0.7.0)\n",
            "Requirement already satisfied: ignite==1.1.0 in /usr/local/lib/python3.7/dist-packages (from -r requirements.txt (line 15)) (1.1.0)\n",
            "Requirement already satisfied: scikit_learn==0.23.1 in /usr/local/lib/python3.7/dist-packages (from -r requirements.txt (line 16)) (0.23.1)\n",
            "Requirement already satisfied: typing==3.7.4.1 in /usr/local/lib/python3.7/dist-packages (from -r requirements.txt (line 17)) (3.7.4.1)\n",
            "Requirement already satisfied: PyYAML==5.4 in /usr/local/lib/python3.7/dist-packages (from -r requirements.txt (line 18)) (5.4)\n",
            "Requirement already satisfied: numba==0.48 in /usr/local/lib/python3.7/dist-packages (from -r requirements.txt (line 19)) (0.48.0)\n",
            "Requirement already satisfied: pypeln in /usr/local/lib/python3.7/dist-packages (from -r requirements.txt (line 20)) (0.4.9)\n",
            "Requirement already satisfied: pydub in /usr/local/lib/python3.7/dist-packages (from -r requirements.txt (line 21)) (0.25.1)\n",
            "Requirement already satisfied: python-dateutil>=2.7.3 in /usr/local/lib/python3.7/dist-packages (from pandas==1.1.0->-r requirements.txt (line 1)) (2.8.2)\n",
            "Requirement already satisfied: pytz>=2017.2 in /usr/local/lib/python3.7/dist-packages (from pandas==1.1.0->-r requirements.txt (line 1)) (2022.2.1)\n",
            "Requirement already satisfied: cffi>=1.0 in /usr/local/lib/python3.7/dist-packages (from SoundFile==0.10.2->-r requirements.txt (line 2)) (1.15.1)\n",
            "Requirement already satisfied: dcase-util>=0.2.4 in /usr/local/lib/python3.7/dist-packages (from sed_eval==0.2.1->-r requirements.txt (line 8)) (0.2.20)\n",
            "Requirement already satisfied: decorator>=3.0.0 in /usr/local/lib/python3.7/dist-packages (from librosa==0.7.0->-r requirements.txt (line 14)) (4.4.2)\n",
            "Requirement already satisfied: joblib>=0.12 in /usr/local/lib/python3.7/dist-packages (from librosa==0.7.0->-r requirements.txt (line 14)) (1.1.0)\n",
            "Requirement already satisfied: resampy>=0.2.0 in /usr/local/lib/python3.7/dist-packages (from librosa==0.7.0->-r requirements.txt (line 14)) (0.2.2)\n",
            "Requirement already satisfied: audioread>=2.0.0 in /usr/local/lib/python3.7/dist-packages (from librosa==0.7.0->-r requirements.txt (line 14)) (3.0.0)\n",
            "Requirement already satisfied: requests in /usr/local/lib/python3.7/dist-packages (from ignite==1.1.0->-r requirements.txt (line 15)) (2.23.0)\n",
            "Requirement already satisfied: wrapt in /usr/local/lib/python3.7/dist-packages (from ignite==1.1.0->-r requirements.txt (line 15)) (1.14.1)\n",
            "Requirement already satisfied: threadpoolctl>=2.0.0 in /usr/local/lib/python3.7/dist-packages (from scikit_learn==0.23.1->-r requirements.txt (line 16)) (3.1.0)\n",
            "Requirement already satisfied: llvmlite<0.32.0,>=0.31.0dev0 in /usr/local/lib/python3.7/dist-packages (from numba==0.48->-r requirements.txt (line 19)) (0.31.0)\n",
            "Requirement already satisfied: setuptools in /usr/local/lib/python3.7/dist-packages (from numba==0.48->-r requirements.txt (line 19)) (57.4.0)\n",
            "Requirement already satisfied: pycparser in /usr/local/lib/python3.7/dist-packages (from cffi>=1.0->SoundFile==0.10.2->-r requirements.txt (line 2)) (2.21)\n",
            "Requirement already satisfied: python-magic>=0.4.13 in /usr/local/lib/python3.7/dist-packages (from dcase-util>=0.2.4->sed_eval==0.2.1->-r requirements.txt (line 8)) (0.4.27)\n",
            "Requirement already satisfied: validators>=0.12.0 in /usr/local/lib/python3.7/dist-packages (from dcase-util>=0.2.4->sed_eval==0.2.1->-r requirements.txt (line 8)) (0.20.0)\n",
            "Requirement already satisfied: pydot-ng>=1.0.0 in /usr/local/lib/python3.7/dist-packages (from dcase-util>=0.2.4->sed_eval==0.2.1->-r requirements.txt (line 8)) (2.0.0)\n",
            "Requirement already satisfied: future>=0.16.0 in /usr/local/lib/python3.7/dist-packages (from dcase-util>=0.2.4->sed_eval==0.2.1->-r requirements.txt (line 8)) (0.16.0)\n",
            "Requirement already satisfied: matplotlib>=2.0.0 in /usr/local/lib/python3.7/dist-packages (from dcase-util>=0.2.4->sed_eval==0.2.1->-r requirements.txt (line 8)) (3.2.2)\n",
            "Requirement already satisfied: pyparsing!=2.0.4,!=2.1.2,!=2.1.6,>=2.0.1 in /usr/local/lib/python3.7/dist-packages (from matplotlib>=2.0.0->dcase-util>=0.2.4->sed_eval==0.2.1->-r requirements.txt (line 8)) (3.0.9)\n",
            "Requirement already satisfied: kiwisolver>=1.0.1 in /usr/local/lib/python3.7/dist-packages (from matplotlib>=2.0.0->dcase-util>=0.2.4->sed_eval==0.2.1->-r requirements.txt (line 8)) (1.4.4)\n",
            "Requirement already satisfied: cycler>=0.10 in /usr/local/lib/python3.7/dist-packages (from matplotlib>=2.0.0->dcase-util>=0.2.4->sed_eval==0.2.1->-r requirements.txt (line 8)) (0.11.0)\n",
            "Requirement already satisfied: typing-extensions in /usr/local/lib/python3.7/dist-packages (from kiwisolver>=1.0.1->matplotlib>=2.0.0->dcase-util>=0.2.4->sed_eval==0.2.1->-r requirements.txt (line 8)) (3.10.0.2)\n",
            "Requirement already satisfied: certifi>=2017.4.17 in /usr/local/lib/python3.7/dist-packages (from requests->ignite==1.1.0->-r requirements.txt (line 15)) (2022.6.15)\n",
            "Requirement already satisfied: urllib3!=1.25.0,!=1.25.1,<1.26,>=1.21.1 in /usr/local/lib/python3.7/dist-packages (from requests->ignite==1.1.0->-r requirements.txt (line 15)) (1.24.3)\n",
            "Requirement already satisfied: chardet<4,>=3.0.2 in /usr/local/lib/python3.7/dist-packages (from requests->ignite==1.1.0->-r requirements.txt (line 15)) (3.0.4)\n",
            "Requirement already satisfied: idna<3,>=2.5 in /usr/local/lib/python3.7/dist-packages (from requests->ignite==1.1.0->-r requirements.txt (line 15)) (2.10)\n",
            "Requirement already satisfied: stopit<2.0.0,>=1.1.2 in /usr/local/lib/python3.7/dist-packages (from pypeln->-r requirements.txt (line 20)) (1.1.2)\n",
            "Installing collected packages: torch\n",
            "  Attempting uninstall: torch\n",
            "    Found existing installation: torch 1.10.0+cu111\n",
            "    Uninstalling torch-1.10.0+cu111:\n",
            "      Successfully uninstalled torch-1.10.0+cu111\n",
            "\u001b[31mERROR: pip's dependency resolver does not currently take into account all the packages that are installed. This behaviour is the source of the following dependency conflicts.\n",
            "torchvision 0.13.1+cu113 requires torch==1.12.1, but you have torch 1.2.0 which is incompatible.\n",
            "torchtext 0.13.1 requires torch==1.12.1, but you have torch 1.2.0 which is incompatible.\n",
            "torchaudio 0.12.1+cu113 requires torch==1.12.1, but you have torch 1.2.0 which is incompatible.\n",
            "openunmix 1.2.1 requires torch>=1.9.0, but you have torch 1.2.0 which is incompatible.\n",
            "julius 0.2.6 requires torch>=1.7.0, but you have torch 1.2.0 which is incompatible.\n",
            "fastai 2.7.9 requires torch<1.14,>=1.7, but you have torch 1.2.0 which is incompatible.\n",
            "demucs 3.0.5 requires torch>=1.8.1, but you have torch 1.2.0 which is incompatible.\u001b[0m\n",
            "Successfully installed torch-1.2.0\n",
            "Looking in indexes: https://pypi.org/simple, https://us-python.pkg.dev/colab-wheels/public/simple/\n",
            "Requirement already satisfied: demucs in /usr/local/lib/python3.7/dist-packages (from -r requirements2.txt (line 1)) (3.0.5)\n",
            "Requirement already satisfied: tqdm in /usr/local/lib/python3.7/dist-packages (from demucs->-r requirements2.txt (line 1)) (4.32.2)\n",
            "Requirement already satisfied: openunmix in /usr/local/lib/python3.7/dist-packages (from demucs->-r requirements2.txt (line 1)) (1.2.1)\n",
            "Requirement already satisfied: pyyaml in /usr/local/lib/python3.7/dist-packages (from demucs->-r requirements2.txt (line 1)) (5.4)\n",
            "Requirement already satisfied: torchaudio>=0.8 in /usr/local/lib/python3.7/dist-packages (from demucs->-r requirements2.txt (line 1)) (0.12.1+cu113)\n",
            "Collecting torch>=1.8.1\n",
            "  Using cached torch-1.12.1-cp37-cp37m-manylinux1_x86_64.whl (776.3 MB)\n",
            "Requirement already satisfied: dora-search in /usr/local/lib/python3.7/dist-packages (from demucs->-r requirements2.txt (line 1)) (0.1.10)\n",
            "Requirement already satisfied: julius>=0.2.3 in /usr/local/lib/python3.7/dist-packages (from demucs->-r requirements2.txt (line 1)) (0.2.6)\n",
            "Requirement already satisfied: lameenc>=1.2 in /usr/local/lib/python3.7/dist-packages (from demucs->-r requirements2.txt (line 1)) (1.4.1)\n",
            "Requirement already satisfied: diffq>=0.2.1 in /usr/local/lib/python3.7/dist-packages (from demucs->-r requirements2.txt (line 1)) (0.2.3)\n",
            "Requirement already satisfied: Cython in /usr/local/lib/python3.7/dist-packages (from diffq>=0.2.1->demucs->-r requirements2.txt (line 1)) (0.29.32)\n",
            "Requirement already satisfied: numpy in /usr/local/lib/python3.7/dist-packages (from diffq>=0.2.1->demucs->-r requirements2.txt (line 1)) (1.16.4)\n",
            "Requirement already satisfied: typing-extensions in /usr/local/lib/python3.7/dist-packages (from torch>=1.8.1->demucs->-r requirements2.txt (line 1)) (3.10.0.2)\n",
            "Requirement already satisfied: treetable in /usr/local/lib/python3.7/dist-packages (from dora-search->demucs->-r requirements2.txt (line 1)) (0.2.5)\n",
            "Requirement already satisfied: submitit in /usr/local/lib/python3.7/dist-packages (from dora-search->demucs->-r requirements2.txt (line 1)) (1.4.5)\n",
            "Requirement already satisfied: omegaconf in /usr/local/lib/python3.7/dist-packages (from dora-search->demucs->-r requirements2.txt (line 1)) (2.2.3)\n",
            "Requirement already satisfied: retrying in /usr/local/lib/python3.7/dist-packages (from dora-search->demucs->-r requirements2.txt (line 1)) (1.3.3)\n",
            "Requirement already satisfied: antlr4-python3-runtime==4.9.* in /usr/local/lib/python3.7/dist-packages (from omegaconf->dora-search->demucs->-r requirements2.txt (line 1)) (4.9.3)\n",
            "Requirement already satisfied: six>=1.7.0 in /usr/local/lib/python3.7/dist-packages (from retrying->dora-search->demucs->-r requirements2.txt (line 1)) (1.12.0)\n",
            "Requirement already satisfied: cloudpickle>=1.2.1 in /usr/local/lib/python3.7/dist-packages (from submitit->dora-search->demucs->-r requirements2.txt (line 1)) (1.5.0)\n",
            "Installing collected packages: torch\n",
            "  Attempting uninstall: torch\n",
            "    Found existing installation: torch 1.2.0\n",
            "    Uninstalling torch-1.2.0:\n",
            "      Successfully uninstalled torch-1.2.0\n",
            "Successfully installed torch-1.12.1\n"
          ]
        }
      ]
    },
    {
      "cell_type": "code",
      "source": [
        "!pip install torch==1.10.0+cu111 -f https://download.pytorch.org/whl/cu111/torch_stable.html"
      ],
      "metadata": {
        "colab": {
          "base_uri": "https://localhost:8080/"
        },
        "id": "NaedW7ksOQlF",
        "outputId": "15c83034-e19f-4779-95eb-9cacb0211e50"
      },
      "execution_count": 20,
      "outputs": [
        {
          "output_type": "stream",
          "name": "stdout",
          "text": [
            "Looking in indexes: https://pypi.org/simple, https://us-python.pkg.dev/colab-wheels/public/simple/\n",
            "Looking in links: https://download.pytorch.org/whl/cu111/torch_stable.html\n",
            "Collecting torch==1.10.0+cu111\n",
            "tcmalloc: large alloc 2137645056 bytes == 0x3012000 @  0x7fc2328581e7 0x4a3940 0x5b438c 0x5ea94f 0x5939cb 0x594cd3 0x5d0ecb 0x59aeca 0x515655 0x593dd7 0x511e2c 0x593dd7 0x511e2c 0x549e0e 0x4bca8a 0x59c019 0x595ef6 0x5134a6 0x549576 0x4bca8a 0x59c019 0x595ef6 0x5134a6 0x549576 0x4bca8a 0x59c019 0x595ef6 0x5134a6 0x549e0e 0x4bca8a 0x59c019\n",
            "tcmalloc: large alloc 2137645056 bytes == 0x826b0000 @  0x7fc2328581e7 0x4a3940 0x5b438c 0x64cfe7 0x59b076 0x515655 0x593dd7 0x511e2c 0x593dd7 0x511e2c 0x549e0e 0x4bca8a 0x59c019 0x595ef6 0x5134a6 0x549576 0x4bca8a 0x59c019 0x595ef6 0x5134a6 0x549576 0x4bca8a 0x59c019 0x595ef6 0x5134a6 0x549e0e 0x4bca8a 0x59c019 0x595ef6 0x5134a6 0x549576\n",
            "tcmalloc: large alloc 2137645056 bytes == 0x101d4e000 @  0x7fc2328581e7 0x4a3940 0x59b5e2 0x63a515 0x63bd66 0x63be16 0x59afff 0x515655 0x593dd7 0x511e2c 0x549576 0x593fce 0x548ae9 0x5127f1 0x593dd7 0x5118f8 0x593dd7 0x511e2c 0x593dd7 0x511e2c 0x549e0e 0x4bca8a 0x59c019 0x595ef6 0x5134a6 0x549576 0x4bca8a 0x59c019 0x595ef6 0x5134a6 0x549576\n",
            "tcmalloc: large alloc 2137645056 bytes == 0x1813ec000 @  0x7fc2328581e7 0x4a3940 0x59b6f0 0x59f499 0x4d3969 0x512147 0x549576 0x593fce 0x511e2c 0x549576 0x593fce 0x511e2c 0x549e0e 0x593fce 0x511e2c 0x549e0e 0x593fce 0x511e2c 0x549e0e 0x593fce 0x511e2c 0x549576 0x593fce 0x548ae9 0x5127f1 0x593dd7 0x5118f8 0x593dd7 0x511e2c 0x593dd7 0x511e2c\n",
            "tcmalloc: large alloc 2137645056 bytes == 0x20131a000 @  0x7fc2328581e7 0x4a3940 0x5b438c 0x638cb2 0x59644e 0x5946b8 0x515600 0x549e0e 0x593fce 0x511e2c 0x549e0e 0x593fce 0x511e2c 0x549e0e 0x593fce 0x511e2c 0x549576 0x593fce 0x548ae9 0x5127f1 0x593dd7 0x5118f8 0x593dd7 0x511e2c 0x593dd7 0x511e2c 0x549e0e 0x4bca8a 0x59c019 0x595ef6 0x5134a6\n",
            "tcmalloc: large alloc 2137645056 bytes == 0x20131a000 @  0x7fc2328581e7 0x4a3940 0x5b438c 0x5ea94f 0x5939cb 0x594cd3 0x5d0ecb 0x59aeca 0x515655 0x593dd7 0x511e2c 0x593dd7 0x511e2c 0x549e0e 0x4bca8a 0x59c019 0x595ef6 0x5134a6 0x549576 0x4bca8a 0x59c019 0x595ef6 0x5134a6 0x549576 0x4bca8a 0x59c019 0x595ef6 0x5134a6 0x549e0e 0x4bca8a 0x59c019\n",
            "tcmalloc: large alloc 2672058368 bytes == 0x3012000 @  0x7fc232859615 0x592b76 0x4df71e 0x59afff 0x515655 0x549576 0x593fce 0x511e2c 0x549576 0x593fce 0x511e2c 0x549576 0x593fce 0x511e2c 0x549576 0x593fce 0x511e2c 0x549576 0x593fce 0x511e2c 0x593dd7 0x511e2c 0x549576 0x593fce 0x548ae9 0x5127f1 0x549576 0x593fce 0x511e2c 0x549e0e 0x593fce\n",
            "  Using cached https://download.pytorch.org/whl/cu111/torch-1.10.0%2Bcu111-cp37-cp37m-linux_x86_64.whl (2137.6 MB)\n",
            "Requirement already satisfied: typing-extensions in /usr/local/lib/python3.7/dist-packages (from torch==1.10.0+cu111) (3.10.0.2)\n",
            "Installing collected packages: torch\n",
            "  Attempting uninstall: torch\n",
            "    Found existing installation: torch 1.12.1\n",
            "    Uninstalling torch-1.12.1:\n",
            "      Successfully uninstalled torch-1.12.1\n",
            "\u001b[31mERROR: pip's dependency resolver does not currently take into account all the packages that are installed. This behaviour is the source of the following dependency conflicts.\n",
            "torchvision 0.13.1+cu113 requires torch==1.12.1, but you have torch 1.10.0+cu111 which is incompatible.\n",
            "torchtext 0.13.1 requires torch==1.12.1, but you have torch 1.10.0+cu111 which is incompatible.\n",
            "torchaudio 0.12.1+cu113 requires torch==1.12.1, but you have torch 1.10.0+cu111 which is incompatible.\u001b[0m\n",
            "Successfully installed torch-1.10.0+cu111\n"
          ]
        }
      ]
    },
    {
      "cell_type": "code",
      "execution_count": 13,
      "metadata": {
        "id": "eX0RpbzdraC4",
        "colab": {
          "base_uri": "https://localhost:8080/"
        },
        "outputId": "a36b4778-0b12-4e4b-e869-3905fdf9e101"
      },
      "outputs": [
        {
          "output_type": "stream",
          "name": "stdout",
          "text": [
            "Looking in indexes: https://pypi.org/simple, https://us-python.pkg.dev/colab-wheels/public/simple/\n",
            "Requirement already satisfied: demucs in /usr/local/lib/python3.7/dist-packages (3.0.5)\n",
            "Requirement already satisfied: pyyaml in /usr/local/lib/python3.7/dist-packages (from demucs) (5.4)\n",
            "Requirement already satisfied: julius>=0.2.3 in /usr/local/lib/python3.7/dist-packages (from demucs) (0.2.6)\n",
            "Requirement already satisfied: torchaudio>=0.8 in /usr/local/lib/python3.7/dist-packages (from demucs) (0.12.1+cu113)\n",
            "Requirement already satisfied: lameenc>=1.2 in /usr/local/lib/python3.7/dist-packages (from demucs) (1.4.1)\n",
            "Requirement already satisfied: openunmix in /usr/local/lib/python3.7/dist-packages (from demucs) (1.2.1)\n",
            "Requirement already satisfied: dora-search in /usr/local/lib/python3.7/dist-packages (from demucs) (0.1.10)\n",
            "Requirement already satisfied: diffq>=0.2.1 in /usr/local/lib/python3.7/dist-packages (from demucs) (0.2.3)\n",
            "Requirement already satisfied: torch>=1.8.1 in /usr/local/lib/python3.7/dist-packages (from demucs) (1.12.1)\n",
            "Requirement already satisfied: tqdm in /usr/local/lib/python3.7/dist-packages (from demucs) (4.32.2)\n",
            "Requirement already satisfied: numpy in /usr/local/lib/python3.7/dist-packages (from diffq>=0.2.1->demucs) (1.16.4)\n",
            "Requirement already satisfied: Cython in /usr/local/lib/python3.7/dist-packages (from diffq>=0.2.1->demucs) (0.29.32)\n",
            "Requirement already satisfied: typing-extensions in /usr/local/lib/python3.7/dist-packages (from torch>=1.8.1->demucs) (3.10.0.2)\n",
            "Requirement already satisfied: treetable in /usr/local/lib/python3.7/dist-packages (from dora-search->demucs) (0.2.5)\n",
            "Requirement already satisfied: submitit in /usr/local/lib/python3.7/dist-packages (from dora-search->demucs) (1.4.5)\n",
            "Requirement already satisfied: omegaconf in /usr/local/lib/python3.7/dist-packages (from dora-search->demucs) (2.2.3)\n",
            "Requirement already satisfied: retrying in /usr/local/lib/python3.7/dist-packages (from dora-search->demucs) (1.3.3)\n",
            "Requirement already satisfied: antlr4-python3-runtime==4.9.* in /usr/local/lib/python3.7/dist-packages (from omegaconf->dora-search->demucs) (4.9.3)\n",
            "Requirement already satisfied: six>=1.7.0 in /usr/local/lib/python3.7/dist-packages (from retrying->dora-search->demucs) (1.12.0)\n",
            "Requirement already satisfied: cloudpickle>=1.2.1 in /usr/local/lib/python3.7/dist-packages (from submitit->dora-search->demucs) (1.5.0)\n"
          ]
        }
      ],
      "source": [
        "!pip install -U demucs"
      ]
    },
    {
      "cell_type": "code",
      "source": [
        "!demucs /content/téléchargement.wav"
      ],
      "metadata": {
        "colab": {
          "base_uri": "https://localhost:8080/"
        },
        "id": "MRQi5rnHiWef",
        "outputId": "f60a873d-3a83-4a9d-f1bb-000c6bafd04d"
      },
      "execution_count": 21,
      "outputs": [
        {
          "output_type": "stream",
          "name": "stdout",
          "text": [
            "Traceback (most recent call last):\n",
            "  File \"/usr/local/bin/demucs\", line 5, in <module>\n",
            "    from demucs.separate import main\n",
            "  File \"/usr/local/lib/python3.7/dist-packages/demucs/separate.py\", line 14, in <module>\n",
            "    import torchaudio as ta\n",
            "  File \"/usr/local/lib/python3.7/dist-packages/torchaudio/__init__.py\", line 1, in <module>\n",
            "    from torchaudio import (  # noqa: F401\n",
            "  File \"/usr/local/lib/python3.7/dist-packages/torchaudio/_extension.py\", line 103, in <module>\n",
            "    _init_extension()\n",
            "  File \"/usr/local/lib/python3.7/dist-packages/torchaudio/_extension.py\", line 88, in _init_extension\n",
            "    _load_lib(\"libtorchaudio\")\n",
            "  File \"/usr/local/lib/python3.7/dist-packages/torchaudio/_extension.py\", line 51, in _load_lib\n",
            "    torch.ops.load_library(path)\n",
            "  File \"/usr/local/lib/python3.7/dist-packages/torch/_ops.py\", line 110, in load_library\n",
            "    ctypes.CDLL(path)\n",
            "  File \"/usr/lib/python3.7/ctypes/__init__.py\", line 364, in __init__\n",
            "    self._handle = _dlopen(self._name, mode)\n",
            "OSError: /usr/local/lib/python3.7/dist-packages/torchaudio/lib/libtorchaudio.so: undefined symbol: _ZN3c1010Dispatcher17runRecordFunctionERN2at14RecordFunctionESt17reference_wrapperIKNS_14FunctionSchemaEENS_11DispatchKeyE\n"
          ]
        }
      ]
    },
    {
      "cell_type": "code",
      "execution_count": 9,
      "metadata": {
        "colab": {
          "base_uri": "https://localhost:8080/"
        },
        "id": "2K5_IoifSu-1",
        "outputId": "f4032074-aad8-4f92-9ae1-9b0446f5ab26"
      },
      "outputs": [
        {
          "output_type": "stream",
          "name": "stdout",
          "text": [
            "\u001b[32m2022-08-26 09:44:19.217\u001b[0m | \u001b[1mINFO    \u001b[0m | \u001b[36m__main__\u001b[0m:\u001b[36mmain\u001b[0m:\u001b[36m161\u001b[0m - \u001b[1mPassed args\u001b[0m\n",
            "\u001b[32m2022-08-26 09:44:19.217\u001b[0m | \u001b[1mINFO    \u001b[0m | \u001b[36m__main__\u001b[0m:\u001b[36mmain\u001b[0m:\u001b[36m163\u001b[0m - \u001b[1mwav : /content/téléchargement.wav\u001b[0m\n",
            "\u001b[32m2022-08-26 09:44:19.217\u001b[0m | \u001b[1mINFO    \u001b[0m | \u001b[36m__main__\u001b[0m:\u001b[36mmain\u001b[0m:\u001b[36m163\u001b[0m - \u001b[1mwavlist : None      \u001b[0m\n",
            "\u001b[32m2022-08-26 09:44:19.217\u001b[0m | \u001b[1mINFO    \u001b[0m | \u001b[36m__main__\u001b[0m:\u001b[36mmain\u001b[0m:\u001b[36m163\u001b[0m - \u001b[1mmodel : sre       \u001b[0m\n",
            "\u001b[32m2022-08-26 09:44:19.217\u001b[0m | \u001b[1mINFO    \u001b[0m | \u001b[36m__main__\u001b[0m:\u001b[36mmain\u001b[0m:\u001b[36m163\u001b[0m - \u001b[1mpretrained_dir : pretrained_models\u001b[0m\n",
            "\u001b[32m2022-08-26 09:44:19.218\u001b[0m | \u001b[1mINFO    \u001b[0m | \u001b[36m__main__\u001b[0m:\u001b[36mmain\u001b[0m:\u001b[36m163\u001b[0m - \u001b[1moutput_path : /content  \u001b[0m\n",
            "\u001b[32m2022-08-26 09:44:19.218\u001b[0m | \u001b[1mINFO    \u001b[0m | \u001b[36m__main__\u001b[0m:\u001b[36mmain\u001b[0m:\u001b[36m163\u001b[0m - \u001b[1msoft : False     \u001b[0m\n",
            "\u001b[32m2022-08-26 09:44:19.218\u001b[0m | \u001b[1mINFO    \u001b[0m | \u001b[36m__main__\u001b[0m:\u001b[36mmain\u001b[0m:\u001b[36m163\u001b[0m - \u001b[1mhard : False     \u001b[0m\n",
            "\u001b[32m2022-08-26 09:44:19.218\u001b[0m | \u001b[1mINFO    \u001b[0m | \u001b[36m__main__\u001b[0m:\u001b[36mmain\u001b[0m:\u001b[36m163\u001b[0m - \u001b[1mthreshold : (0.5, 0.1)\u001b[0m\n",
            "/usr/local/lib/python3.7/dist-packages/torch/utils/data/dataloader.py:566: UserWarning: This DataLoader will create 3 worker processes in total. Our suggested max number of worker in current system is 2, which is smaller than what this DataLoader is going to create. Please be aware that excessive worker creation might get DataLoader running slow or even freeze, lower the worker number to avoid potential slowness/freeze if necessary.\n",
            "  cpuset_checked))\n",
            "/usr/local/lib/python3.7/dist-packages/sklearn/utils/deprecation.py:143: FutureWarning: The sklearn.preprocessing.label module is  deprecated in version 0.22 and will be removed in version 0.24. The corresponding classes / functions should instead be imported from sklearn.preprocessing. Anything that cannot be imported from sklearn.preprocessing is now part of the private API.\n",
            "  warnings.warn(message, FutureWarning)\n",
            "/usr/local/lib/python3.7/dist-packages/sklearn/base.py:334: UserWarning: Trying to unpickle estimator MultiLabelBinarizer from version 0.21.2 when using version 0.23.1. This might lead to breaking code or invalid results. Use at your own risk.\n",
            "  UserWarning)\n",
            "\u001b[32m2022-08-26 09:44:20.233\u001b[0m | \u001b[1mINFO    \u001b[0m | \u001b[36m__main__\u001b[0m:\u001b[36mmain\u001b[0m:\u001b[36m262\u001b[0m - \u001b[1mPutting results also to dir /content\u001b[0m\n",
            "forward.py:268: FutureWarning: 'showindex' is deprecated. Only 'index' will be used in a future version. Use 'index' to silence this warning.\n",
            "  print(prediction_df.to_markdown(showindex=False))\n",
            "|   index | event_label   |   onset |   offset | filename                    |\n",
            "|--------:|:--------------|--------:|---------:|:----------------------------|\n",
            "|       1 | Speech        |    0.38 |     3.84 | /content/téléchargement.wav |\n",
            "|       2 | Speech        |    5.6  |    10.02 | /content/téléchargement.wav |\n",
            "Traceback (most recent call last):\n",
            "  File \"/usr/local/bin/demucs\", line 5, in <module>\n",
            "    from demucs.separate import main\n",
            "  File \"/usr/local/lib/python3.7/dist-packages/demucs/separate.py\", line 14, in <module>\n",
            "    import torchaudio as ta\n",
            "  File \"/usr/local/lib/python3.7/dist-packages/torchaudio/__init__.py\", line 1, in <module>\n",
            "    from torchaudio import (  # noqa: F401\n",
            "  File \"/usr/local/lib/python3.7/dist-packages/torchaudio/_extension.py\", line 103, in <module>\n",
            "    _init_extension()\n",
            "  File \"/usr/local/lib/python3.7/dist-packages/torchaudio/_extension.py\", line 88, in _init_extension\n",
            "    _load_lib(\"libtorchaudio\")\n",
            "  File \"/usr/local/lib/python3.7/dist-packages/torchaudio/_extension.py\", line 51, in _load_lib\n",
            "    torch.ops.load_library(path)\n",
            "  File \"/usr/local/lib/python3.7/dist-packages/torch/_ops.py\", line 255, in load_library\n",
            "    ctypes.CDLL(path)\n",
            "  File \"/usr/lib/python3.7/ctypes/__init__.py\", line 364, in __init__\n",
            "    self._handle = _dlopen(self._name, mode)\n",
            "OSError: libtorch_cuda_cpp.so: cannot open shared object file: No such file or directory\n"
          ]
        }
      ],
      "source": [
        "!python3 forward.py -w /content/téléchargement.wav -o /content\n",
        "!demucs /content/VADpredictions/predictedspeech.wav"
      ]
    }
  ],
  "metadata": {
    "accelerator": "GPU",
    "colab": {
      "collapsed_sections": [],
      "name": "VAD.ipynb",
      "provenance": [],
      "authorship_tag": "ABX9TyNh4U0IDoPnl4QN9+VFChlY",
      "include_colab_link": true
    },
    "gpuClass": "standard",
    "kernelspec": {
      "display_name": "Python 3",
      "name": "python3"
    },
    "language_info": {
      "name": "python"
    }
  },
  "nbformat": 4,
  "nbformat_minor": 0
}